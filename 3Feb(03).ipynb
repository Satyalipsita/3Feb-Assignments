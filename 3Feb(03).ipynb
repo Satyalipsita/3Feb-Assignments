{
  "metadata": {
    "language_info": {
      "codemirror_mode": {
        "name": "python",
        "version": 3
      },
      "file_extension": ".py",
      "mimetype": "text/x-python",
      "name": "python",
      "nbconvert_exporter": "python",
      "pygments_lexer": "ipython3",
      "version": "3.8"
    },
    "kernelspec": {
      "name": "python",
      "display_name": "Python (Pyodide)",
      "language": "python"
    }
  },
  "nbformat_minor": 4,
  "nbformat": 4,
  "cells": [
    {
      "cell_type": "code",
      "source": "# create a list of integers\nmy_list = range(2, 22, 2)\n# create an iterator from the list\niterator = iter(my_list)\nprint(my_list)\n# iterate through the elements of the iterator\nfor element in iterator:\n    # Print each element\n    print(element)",
      "metadata": {
        "trusted": true
      },
      "execution_count": 9,
      "outputs": [
        {
          "name": "stdout",
          "text": "range(2, 22, 2)\n2\n4\n6\n8\n10\n12\n14\n16\n18\n20\n",
          "output_type": "stream"
        }
      ]
    },
    {
      "cell_type": "code",
      "source": "my_list[0:5]\nprint(my_list)",
      "metadata": {
        "trusted": true
      },
      "execution_count": 15,
      "outputs": [
        {
          "name": "stdout",
          "text": "range(2, 22, 2)\n",
          "output_type": "stream"
        }
      ]
    },
    {
      "cell_type": "code",
      "source": "#An iterator is an object that contains a countable number of values,methods __iter__() and __next__() are used to initialize and print the next item ",
      "metadata": {},
      "execution_count": null,
      "outputs": []
    }
  ]
}