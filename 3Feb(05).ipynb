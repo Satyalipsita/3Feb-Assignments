{
  "metadata": {
    "language_info": {
      "codemirror_mode": {
        "name": "python",
        "version": 3
      },
      "file_extension": ".py",
      "mimetype": "text/x-python",
      "name": "python",
      "nbconvert_exporter": "python",
      "pygments_lexer": "ipython3",
      "version": "3.8"
    },
    "kernelspec": {
      "name": "python",
      "display_name": "Python (Pyodide)",
      "language": "python"
    }
  },
  "nbformat_minor": 4,
  "nbformat": 4,
  "cells": [
    {
      "cell_type": "code",
      "source": "\ndef prime()\nlower = 1\nupper = 1000\nprint(\"Prime numbers between\", lower, \"and\", upper, \"are:\")\n\nfor num in range(lower, upper + 1):\n   # all prime numbers are greater than 1\n   if num > 1:\n       while i in range(2, num):\n           if (num % i) == 0:\n               break\n       else:\n           yield num\nx=prime(20)\n\n print(next(x))\n print(next(x))\n print(next(x))\n print(next(x))\n print(next(x))\n print(next(x))\n print(next(x))\n print(next(x))\n print(next(x))\n print(next(x))\n print(next(x))\n print(next(x))\n print(next(x))\n print(next(x))\n print(next(x))\n print(next(x))\n print(next(x))\n print(next(x))\n print(next(x))\n print(next(x))\n    print(\"\\nUsing for in loop\")\nfor i in prime(20):\n    print(i)",
      "metadata": {
        "trusted": true
      },
      "execution_count": null,
      "outputs": []
    },
    {
      "cell_type": "code",
      "source": "",
      "metadata": {},
      "execution_count": null,
      "outputs": []
    }
  ]
}