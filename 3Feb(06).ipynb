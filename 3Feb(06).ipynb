{
  "metadata": {
    "language_info": {
      "codemirror_mode": {
        "name": "python",
        "version": 3
      },
      "file_extension": ".py",
      "mimetype": "text/x-python",
      "name": "python",
      "nbconvert_exporter": "python",
      "pygments_lexer": "ipython3",
      "version": "3.8"
    },
    "kernelspec": {
      "name": "python",
      "display_name": "Python (Pyodide)",
      "language": "python"
    }
  },
  "nbformat_minor": 4,
  "nbformat": 4,
  "cells": [
    {
      "cell_type": "code",
      "source": "n = int(input())\na = 0\nb = 1\nsum = 0\ncount = 1\nprint(\"Fibonacci series is: \", end = \" \")\nwhile(count <= n):\n  count += 1\n  print(a, end=\" \")\n  a = b\n  b = sum\n  sum = a + b",
      "metadata": {},
      "execution_count": null,
      "outputs": []
    }
  ]
}