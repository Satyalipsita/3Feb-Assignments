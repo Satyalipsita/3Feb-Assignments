{
  "metadata": {
    "language_info": {
      "codemirror_mode": {
        "name": "python",
        "version": 3
      },
      "file_extension": ".py",
      "mimetype": "text/x-python",
      "name": "python",
      "nbconvert_exporter": "python",
      "pygments_lexer": "ipython3",
      "version": "3.8"
    },
    "kernelspec": {
      "name": "python",
      "display_name": "Python (Pyodide)",
      "language": "python"
    }
  },
  "nbformat_minor": 4,
  "nbformat": 4,
  "cells": [
    {
      "cell_type": "code",
      "source": "def myFun(arg1, *argv):\n    print(\"First argument :\", arg1)\n    for arg in argv:\n        print(\"Next argument through *argv :\", arg)\n  \n  \nmyFun('Hello', 'Welcome', 'to', 'PW Skills')",
      "metadata": {
        "trusted": true
      },
      "execution_count": 2,
      "outputs": [
        {
          "name": "stdout",
          "text": "First argument : Hello\nNext argument through *argv : Welcome\nNext argument through *argv : to\nNext argument through *argv : PW Skills\n",
          "output_type": "stream"
        }
      ]
    },
    {
      "cell_type": "code",
      "source": "def myFun(**kwargs):\n    for key, value in kwargs.items():\n        print(\"%s == %s\" % (key, value))\n  \n  \n# Driver code\nmyFun(first='PW', mid='for', last='Skills')",
      "metadata": {
        "trusted": true
      },
      "execution_count": 4,
      "outputs": [
        {
          "name": "stdout",
          "text": "first == PW\nmid == for\nlast == Skills\n",
          "output_type": "stream"
        }
      ]
    },
    {
      "cell_type": "code",
      "source": "#*args means n number of nonkeyword arguments can be passed ,**kargs means keyword arguments will be passesd like dictionary",
      "metadata": {},
      "execution_count": null,
      "outputs": []
    }
  ]
}